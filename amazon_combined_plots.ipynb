{
 "cells": [
  {
   "cell_type": "code",
   "execution_count": 1,
   "id": "aae51160-bb39-42a3-9842-e621b47cfa1d",
   "metadata": {
    "tags": []
   },
   "outputs": [],
   "source": [
    "import geopandas as gpd\n",
    "import pandas as pd\n",
    "import datetime as dt\n",
    "from datetime import datetime, timedelta\n",
    "import numpy as np\n",
    "import os\n",
    "import palettable\n",
    "from lonboard import viz, Map, ScatterplotLayer\n",
    "from lonboard.colormap import apply_continuous_cmap\n",
    "import rioxarray\n",
    "import matplotlib.pyplot as plt\n",
    "import cartopy\n",
    "import cartopy.crs as ccrs\n",
    "import xarray as xr"
   ]
  },
  {
   "cell_type": "markdown",
   "id": "238e9164-9fec-4b13-a89f-491e2251ecc5",
   "metadata": {
    "tags": []
   },
   "source": [
    "IMPORTANT for lonboard: need to pip install anywidget==0.9.4 in the base environment from which Jupyter launches (and the working environment if necessary) each time the workspace restarts. Refresh browser. "
   ]
  },
  {
   "cell_type": "code",
   "execution_count": 2,
   "id": "f0eaa8b6-698c-4035-ad63-7d8a4a1949ce",
   "metadata": {
    "tags": []
   },
   "outputs": [
    {
     "data": {
      "text/html": [
       "<div>\n",
       "<style scoped>\n",
       "    .dataframe tbody tr th:only-of-type {\n",
       "        vertical-align: middle;\n",
       "    }\n",
       "\n",
       "    .dataframe tbody tr th {\n",
       "        vertical-align: top;\n",
       "    }\n",
       "\n",
       "    .dataframe thead th {\n",
       "        text-align: right;\n",
       "    }\n",
       "</style>\n",
       "<table border=\"1\" class=\"dataframe\">\n",
       "  <thead>\n",
       "    <tr style=\"text-align: right;\">\n",
       "      <th></th>\n",
       "      <th>longitude</th>\n",
       "      <th>latitude</th>\n",
       "      <th>fire_mask</th>\n",
       "      <th>daynight</th>\n",
       "      <th>confidence</th>\n",
       "      <th>acq_date</th>\n",
       "      <th>acq_time</th>\n",
       "      <th>acq_datetime</th>\n",
       "      <th>j</th>\n",
       "      <th>geometry</th>\n",
       "      <th>forest</th>\n",
       "      <th>pass_filter</th>\n",
       "    </tr>\n",
       "  </thead>\n",
       "  <tbody>\n",
       "    <tr>\n",
       "      <th>4</th>\n",
       "      <td>-58.650900</td>\n",
       "      <td>-16.247719</td>\n",
       "      <td>5</td>\n",
       "      <td>D</td>\n",
       "      <td>x</td>\n",
       "      <td>2016/03/31</td>\n",
       "      <td>1420</td>\n",
       "      <td>2016-03-31 14:20:00+00:00</td>\n",
       "      <td>841</td>\n",
       "      <td>POINT (-58.65090 -16.24772)</td>\n",
       "      <td>1</td>\n",
       "      <td>True</td>\n",
       "    </tr>\n",
       "    <tr>\n",
       "      <th>8</th>\n",
       "      <td>-58.649555</td>\n",
       "      <td>-16.238443</td>\n",
       "      <td>5</td>\n",
       "      <td>D</td>\n",
       "      <td>x</td>\n",
       "      <td>2016/03/31</td>\n",
       "      <td>1420</td>\n",
       "      <td>2016-03-31 14:20:00+00:00</td>\n",
       "      <td>841</td>\n",
       "      <td>POINT (-58.64955 -16.23844)</td>\n",
       "      <td>1</td>\n",
       "      <td>True</td>\n",
       "    </tr>\n",
       "    <tr>\n",
       "      <th>9</th>\n",
       "      <td>-57.632893</td>\n",
       "      <td>-15.513246</td>\n",
       "      <td>8</td>\n",
       "      <td>D</td>\n",
       "      <td>n</td>\n",
       "      <td>2016/03/13</td>\n",
       "      <td>1430</td>\n",
       "      <td>2016-03-13 14:30:00+00:00</td>\n",
       "      <td>1150</td>\n",
       "      <td>POINT (-57.63289 -15.51325)</td>\n",
       "      <td>1</td>\n",
       "      <td>NaN</td>\n",
       "    </tr>\n",
       "    <tr>\n",
       "      <th>10</th>\n",
       "      <td>-57.635265</td>\n",
       "      <td>-15.507513</td>\n",
       "      <td>8</td>\n",
       "      <td>D</td>\n",
       "      <td>n</td>\n",
       "      <td>2016/03/08</td>\n",
       "      <td>1415</td>\n",
       "      <td>2016-03-08 14:15:00+00:00</td>\n",
       "      <td>772</td>\n",
       "      <td>POINT (-57.63526 -15.50751)</td>\n",
       "      <td>1</td>\n",
       "      <td>NaN</td>\n",
       "    </tr>\n",
       "    <tr>\n",
       "      <th>11</th>\n",
       "      <td>-57.637814</td>\n",
       "      <td>-15.506916</td>\n",
       "      <td>8</td>\n",
       "      <td>D</td>\n",
       "      <td>n</td>\n",
       "      <td>2016/03/13</td>\n",
       "      <td>1430</td>\n",
       "      <td>2016-03-13 14:30:00+00:00</td>\n",
       "      <td>1150</td>\n",
       "      <td>POINT (-57.63781 -15.50692)</td>\n",
       "      <td>1</td>\n",
       "      <td>NaN</td>\n",
       "    </tr>\n",
       "  </tbody>\n",
       "</table>\n",
       "</div>"
      ],
      "text/plain": [
       "    longitude   latitude  fire_mask daynight confidence    acq_date  acq_time  \\\n",
       "4  -58.650900 -16.247719          5        D          x  2016/03/31      1420   \n",
       "8  -58.649555 -16.238443          5        D          x  2016/03/31      1420   \n",
       "9  -57.632893 -15.513246          8        D          n  2016/03/13      1430   \n",
       "10 -57.635265 -15.507513          8        D          n  2016/03/08      1415   \n",
       "11 -57.637814 -15.506916          8        D          n  2016/03/13      1430   \n",
       "\n",
       "                acq_datetime     j                     geometry  forest  \\\n",
       "4  2016-03-31 14:20:00+00:00   841  POINT (-58.65090 -16.24772)       1   \n",
       "8  2016-03-31 14:20:00+00:00   841  POINT (-58.64955 -16.23844)       1   \n",
       "9  2016-03-13 14:30:00+00:00  1150  POINT (-57.63289 -15.51325)       1   \n",
       "10 2016-03-08 14:15:00+00:00   772  POINT (-57.63526 -15.50751)       1   \n",
       "11 2016-03-13 14:30:00+00:00  1150  POINT (-57.63781 -15.50692)       1   \n",
       "\n",
       "   pass_filter  \n",
       "4         True  \n",
       "8         True  \n",
       "9          NaN  \n",
       "10         NaN  \n",
       "11         NaN  "
      ]
     },
     "execution_count": 2,
     "metadata": {},
     "output_type": "execute_result"
    }
   ],
   "source": [
    "modis = pd.read_csv('/projects/shared-buckets/coffield/modis/outputs/amazon/2016_03_detections_Terra_masked_filter.csv')\n",
    "modis = gpd.GeoDataFrame(modis, geometry=gpd.points_from_xy(modis.longitude, modis.latitude), crs=\"EPSG:4326\")\n",
    "modis.acq_datetime = pd.to_datetime(modis.acq_datetime)\n",
    "\n",
    "#modis = modis[(modis.daynight=='N') | (modis.fire_mask > 6)] #not daytime potential fires\n",
    "modis = modis[(modis.pass_filter==True) | (modis.fire_mask>6)] #only pixels that passed space/time filter\n",
    "modis.head()"
   ]
  },
  {
   "cell_type": "code",
   "execution_count": 4,
   "id": "4795aff3-f80d-4af3-9214-8908fdf6aea8",
   "metadata": {
    "tags": []
   },
   "outputs": [
    {
     "data": {
      "application/vnd.jupyter.widget-view+json": {
       "model_id": "eac8bc2d69754273beef6d1c84113736",
       "version_major": 2,
       "version_minor": 1
      },
      "text/plain": [
       "Map(basemap_style=<CartoBasemap.DarkMatter: 'https://basemaps.cartocdn.com/gl/dark-matter-gl-style/style.json'…"
      ]
     },
     "execution_count": 4,
     "metadata": {},
     "output_type": "execute_result"
    }
   ],
   "source": [
    "#test lonboard\n",
    "viz(modis)"
   ]
  },
  {
   "cell_type": "code",
   "execution_count": 3,
   "id": "dc86ede3-e11c-4351-a7d5-219094ec686e",
   "metadata": {
    "tags": []
   },
   "outputs": [],
   "source": [
    "viirs = pd.read_csv('/projects/shared-buckets/coffield/viirs/outputs/amazon/2016_03_detections_SNPP_masked_filter.csv')\n",
    "\n",
    "viirs = gpd.GeoDataFrame(viirs, geometry=gpd.points_from_xy(viirs.longitude, viirs.latitude), crs=\"EPSG:4326\")\n",
    "viirs.acq_datetime = pd.to_datetime(viirs.acq_datetime)\n",
    "viirs.acq_date = viirs.acq_datetime.dt.strftime('%Y/%m/%d')\n",
    "   \n",
    "viirs = viirs[(viirs.pass_filter==True) | (viirs.fire_mask>6)] #only pixels that passed space/time filter"
   ]
  },
  {
   "cell_type": "code",
   "execution_count": 6,
   "id": "2df400d0-4440-45fe-88ea-c74918c0b9d1",
   "metadata": {
    "tags": []
   },
   "outputs": [
    {
     "data": {
      "text/html": [
       "<div>\n",
       "<style scoped>\n",
       "    .dataframe tbody tr th:only-of-type {\n",
       "        vertical-align: middle;\n",
       "    }\n",
       "\n",
       "    .dataframe tbody tr th {\n",
       "        vertical-align: top;\n",
       "    }\n",
       "\n",
       "    .dataframe thead th {\n",
       "        text-align: right;\n",
       "    }\n",
       "</style>\n",
       "<table border=\"1\" class=\"dataframe\">\n",
       "  <thead>\n",
       "    <tr style=\"text-align: right;\">\n",
       "      <th></th>\n",
       "      <th>longitude</th>\n",
       "      <th>latitude</th>\n",
       "      <th>fire_mask</th>\n",
       "      <th>daynight</th>\n",
       "      <th>confidence</th>\n",
       "      <th>acq_date</th>\n",
       "      <th>acq_time</th>\n",
       "      <th>acq_datetime</th>\n",
       "      <th>j</th>\n",
       "      <th>geometry</th>\n",
       "      <th>forest</th>\n",
       "      <th>pass_filter</th>\n",
       "      <th>vza</th>\n",
       "    </tr>\n",
       "  </thead>\n",
       "  <tbody>\n",
       "    <tr>\n",
       "      <th>92</th>\n",
       "      <td>-60.357710</td>\n",
       "      <td>-18.136751</td>\n",
       "      <td>8.0</td>\n",
       "      <td>N</td>\n",
       "      <td>n</td>\n",
       "      <td>2016/03/19</td>\n",
       "      <td>454</td>\n",
       "      <td>2016-03-19 04:54:00+00:00</td>\n",
       "      <td>2010.0</td>\n",
       "      <td>POINT (-60.35771 -18.13675)</td>\n",
       "      <td>1</td>\n",
       "      <td>NaN</td>\n",
       "      <td>31.693800</td>\n",
       "    </tr>\n",
       "    <tr>\n",
       "      <th>93</th>\n",
       "      <td>-60.381844</td>\n",
       "      <td>-18.125023</td>\n",
       "      <td>5.0</td>\n",
       "      <td>D</td>\n",
       "      <td>x</td>\n",
       "      <td>2016/03/16</td>\n",
       "      <td>1818</td>\n",
       "      <td>2016-03-16 18:18:00+00:00</td>\n",
       "      <td>650.0</td>\n",
       "      <td>POINT (-60.38184 -18.12502)</td>\n",
       "      <td>1</td>\n",
       "      <td>True</td>\n",
       "      <td>50.279700</td>\n",
       "    </tr>\n",
       "    <tr>\n",
       "      <th>94</th>\n",
       "      <td>-60.381905</td>\n",
       "      <td>-18.123245</td>\n",
       "      <td>5.0</td>\n",
       "      <td>D</td>\n",
       "      <td>x</td>\n",
       "      <td>2016/03/16</td>\n",
       "      <td>1818</td>\n",
       "      <td>2016-03-16 18:18:00+00:00</td>\n",
       "      <td>652.0</td>\n",
       "      <td>POINT (-60.38191 -18.12325)</td>\n",
       "      <td>1</td>\n",
       "      <td>True</td>\n",
       "      <td>50.261900</td>\n",
       "    </tr>\n",
       "    <tr>\n",
       "      <th>95</th>\n",
       "      <td>-60.138130</td>\n",
       "      <td>-17.406937</td>\n",
       "      <td>8.0</td>\n",
       "      <td>D</td>\n",
       "      <td>n</td>\n",
       "      <td>2016/03/29</td>\n",
       "      <td>1736</td>\n",
       "      <td>2016-03-29 17:36:00+00:00</td>\n",
       "      <td>3085.0</td>\n",
       "      <td>POINT (-60.13813 -17.40694)</td>\n",
       "      <td>1</td>\n",
       "      <td>NaN</td>\n",
       "      <td>3.068000</td>\n",
       "    </tr>\n",
       "    <tr>\n",
       "      <th>97</th>\n",
       "      <td>-60.327454</td>\n",
       "      <td>-17.676804</td>\n",
       "      <td>8.0</td>\n",
       "      <td>D</td>\n",
       "      <td>n</td>\n",
       "      <td>2016/03/18</td>\n",
       "      <td>1742</td>\n",
       "      <td>2016-03-18 17:42:00+00:00</td>\n",
       "      <td>2741.0</td>\n",
       "      <td>POINT (-60.32745 -17.67680)</td>\n",
       "      <td>1</td>\n",
       "      <td>NaN</td>\n",
       "      <td>12.245300</td>\n",
       "    </tr>\n",
       "    <tr>\n",
       "      <th>...</th>\n",
       "      <td>...</td>\n",
       "      <td>...</td>\n",
       "      <td>...</td>\n",
       "      <td>...</td>\n",
       "      <td>...</td>\n",
       "      <td>...</td>\n",
       "      <td>...</td>\n",
       "      <td>...</td>\n",
       "      <td>...</td>\n",
       "      <td>...</td>\n",
       "      <td>...</td>\n",
       "      <td>...</td>\n",
       "      <td>...</td>\n",
       "    </tr>\n",
       "    <tr>\n",
       "      <th>58524</th>\n",
       "      <td>-67.291214</td>\n",
       "      <td>6.295879</td>\n",
       "      <td>5.0</td>\n",
       "      <td>D</td>\n",
       "      <td>x</td>\n",
       "      <td>2016/03/25</td>\n",
       "      <td>1718</td>\n",
       "      <td>2016-03-25 17:18:00+00:00</td>\n",
       "      <td>5027.0</td>\n",
       "      <td>POINT (-67.29121 6.29588)</td>\n",
       "      <td>1</td>\n",
       "      <td>True</td>\n",
       "      <td>43.041000</td>\n",
       "    </tr>\n",
       "    <tr>\n",
       "      <th>58525</th>\n",
       "      <td>-67.297386</td>\n",
       "      <td>6.299789</td>\n",
       "      <td>8.0</td>\n",
       "      <td>D</td>\n",
       "      <td>n</td>\n",
       "      <td>2016/03/25</td>\n",
       "      <td>1718</td>\n",
       "      <td>2016-03-25 17:18:00+00:00</td>\n",
       "      <td>5028.0</td>\n",
       "      <td>POINT (-67.29739 6.29979)</td>\n",
       "      <td>1</td>\n",
       "      <td>NaN</td>\n",
       "      <td>43.058800</td>\n",
       "    </tr>\n",
       "    <tr>\n",
       "      <th>58526</th>\n",
       "      <td>-67.288880</td>\n",
       "      <td>6.298247</td>\n",
       "      <td>5.0</td>\n",
       "      <td>D</td>\n",
       "      <td>x</td>\n",
       "      <td>2016/03/25</td>\n",
       "      <td>1718</td>\n",
       "      <td>2016-03-25 17:18:00+00:00</td>\n",
       "      <td>5028.0</td>\n",
       "      <td>POINT (-67.28888 6.29825)</td>\n",
       "      <td>1</td>\n",
       "      <td>True</td>\n",
       "      <td>43.058800</td>\n",
       "    </tr>\n",
       "    <tr>\n",
       "      <th>58527</th>\n",
       "      <td>-67.292076</td>\n",
       "      <td>6.300704</td>\n",
       "      <td>8.0</td>\n",
       "      <td>D</td>\n",
       "      <td>n</td>\n",
       "      <td>2016/03/25</td>\n",
       "      <td>1718</td>\n",
       "      <td>2016-03-25 17:18:00+00:00</td>\n",
       "      <td>5027.0</td>\n",
       "      <td>POINT (-67.29208 6.30070)</td>\n",
       "      <td>1</td>\n",
       "      <td>NaN</td>\n",
       "      <td>43.041000</td>\n",
       "    </tr>\n",
       "    <tr>\n",
       "      <th>58528</th>\n",
       "      <td>-67.165230</td>\n",
       "      <td>6.416591</td>\n",
       "      <td>8.0</td>\n",
       "      <td>N</td>\n",
       "      <td>n</td>\n",
       "      <td>2016/03/26</td>\n",
       "      <td>554</td>\n",
       "      <td>2016-03-26 05:54:00+00:00</td>\n",
       "      <td>3166.0</td>\n",
       "      <td>POINT (-67.16523 6.41659)</td>\n",
       "      <td>1</td>\n",
       "      <td>NaN</td>\n",
       "      <td>0.907062</td>\n",
       "    </tr>\n",
       "  </tbody>\n",
       "</table>\n",
       "<p>49073 rows × 13 columns</p>\n",
       "</div>"
      ],
      "text/plain": [
       "       longitude   latitude  fire_mask daynight confidence    acq_date  \\\n",
       "92    -60.357710 -18.136751        8.0        N          n  2016/03/19   \n",
       "93    -60.381844 -18.125023        5.0        D          x  2016/03/16   \n",
       "94    -60.381905 -18.123245        5.0        D          x  2016/03/16   \n",
       "95    -60.138130 -17.406937        8.0        D          n  2016/03/29   \n",
       "97    -60.327454 -17.676804        8.0        D          n  2016/03/18   \n",
       "...          ...        ...        ...      ...        ...         ...   \n",
       "58524 -67.291214   6.295879        5.0        D          x  2016/03/25   \n",
       "58525 -67.297386   6.299789        8.0        D          n  2016/03/25   \n",
       "58526 -67.288880   6.298247        5.0        D          x  2016/03/25   \n",
       "58527 -67.292076   6.300704        8.0        D          n  2016/03/25   \n",
       "58528 -67.165230   6.416591        8.0        N          n  2016/03/26   \n",
       "\n",
       "       acq_time              acq_datetime       j  \\\n",
       "92          454 2016-03-19 04:54:00+00:00  2010.0   \n",
       "93         1818 2016-03-16 18:18:00+00:00   650.0   \n",
       "94         1818 2016-03-16 18:18:00+00:00   652.0   \n",
       "95         1736 2016-03-29 17:36:00+00:00  3085.0   \n",
       "97         1742 2016-03-18 17:42:00+00:00  2741.0   \n",
       "...         ...                       ...     ...   \n",
       "58524      1718 2016-03-25 17:18:00+00:00  5027.0   \n",
       "58525      1718 2016-03-25 17:18:00+00:00  5028.0   \n",
       "58526      1718 2016-03-25 17:18:00+00:00  5028.0   \n",
       "58527      1718 2016-03-25 17:18:00+00:00  5027.0   \n",
       "58528       554 2016-03-26 05:54:00+00:00  3166.0   \n",
       "\n",
       "                          geometry  forest pass_filter        vza  \n",
       "92     POINT (-60.35771 -18.13675)       1         NaN  31.693800  \n",
       "93     POINT (-60.38184 -18.12502)       1        True  50.279700  \n",
       "94     POINT (-60.38191 -18.12325)       1        True  50.261900  \n",
       "95     POINT (-60.13813 -17.40694)       1         NaN   3.068000  \n",
       "97     POINT (-60.32745 -17.67680)       1         NaN  12.245300  \n",
       "...                            ...     ...         ...        ...  \n",
       "58524    POINT (-67.29121 6.29588)       1        True  43.041000  \n",
       "58525    POINT (-67.29739 6.29979)       1         NaN  43.058800  \n",
       "58526    POINT (-67.28888 6.29825)       1        True  43.058800  \n",
       "58527    POINT (-67.29208 6.30070)       1         NaN  43.041000  \n",
       "58528    POINT (-67.16523 6.41659)       1         NaN   0.907062  \n",
       "\n",
       "[49073 rows x 13 columns]"
      ]
     },
     "execution_count": 6,
     "metadata": {},
     "output_type": "execute_result"
    }
   ],
   "source": [
    "#add columnn for view zenith angle using pixel size lookup table\n",
    "pix_lut = pd.read_csv('/projects/shared-buckets/coffield/pix_size_lut.csv', index_col='sample')\n",
    "viirs['vza'] = pix_lut.loc[viirs['j'], 'scan_angle'].values\n",
    "viirs"
   ]
  },
  {
   "cell_type": "code",
   "execution_count": 7,
   "id": "3cdf15b5-91fb-4207-9ca8-175ee0514906",
   "metadata": {
    "tags": []
   },
   "outputs": [],
   "source": [
    "v_cands = viirs[viirs.fire_mask<7]\n",
    "v_known = viirs[viirs.fire_mask>6]\n",
    "m_cands = modis[modis.fire_mask<7]\n",
    "m_known = modis[modis.fire_mask>6]\n",
    "\n",
    "min_bound = viirs.acq_datetime.min()\n",
    "max_bound = viirs.acq_datetime.max()\n",
    "normalized_vknown = (v_known.acq_datetime - min_bound) / (max_bound - min_bound)\n",
    "normalized_vcands = (v_cands.acq_datetime - min_bound) / (max_bound - min_bound)\n",
    "\n",
    "normalized_mknown = (m_known.acq_datetime - min_bound) / (max_bound - min_bound)\n",
    "normalized_mcands = (m_cands.acq_datetime - min_bound) / (max_bound - min_bound)"
   ]
  },
  {
   "cell_type": "code",
   "execution_count": 8,
   "id": "ab3fe5bb-ddec-4dc6-8fcd-ee75b04ba75d",
   "metadata": {
    "tags": []
   },
   "outputs": [
    {
     "data": {
      "application/vnd.jupyter.widget-view+json": {
       "model_id": "f61cf0551ec6490293131e2b25c67e1a",
       "version_major": 2,
       "version_minor": 1
      },
      "text/plain": [
       "Map(layers=[ScatterplotLayer(get_fill_color=<pyarrow.lib.FixedSizeListArray object at 0x7f6a3732f040>\n",
       "[\n",
       "  [\n",
       "  …"
      ]
     },
     "execution_count": 8,
     "metadata": {},
     "output_type": "execute_result"
    }
   ],
   "source": [
    "#pick a colormap\n",
    "cmap = palettable.colorbrewer.diverging.BrBG_10\n",
    "cmap = palettable.mycarta.Cube1_20\n",
    "cmap = palettable.colorbrewer.sequential.Reds_7#Blues_7#Reds_7\n",
    "cmap = palettable.colorbrewer.diverging.Spectral_8_r\n",
    "\n",
    "#layer1 (bottom): modis candidates\n",
    "layer1 = ScatterplotLayer.from_geopandas(m_cands)\n",
    "layer1.get_fill_color = apply_continuous_cmap(normalized_mcands, cmap, alpha=0.9)\n",
    "layer1.get_radius = 500\n",
    "layer1.radius_units = \"meters\"\n",
    "layer1.radius_min_pixels = 4\n",
    "\n",
    "#layer2: modis known\n",
    "layer2 = ScatterplotLayer.from_geopandas(m_known, stroked=True)\n",
    "layer2.get_fill_color = apply_continuous_cmap(normalized_mknown, cmap, alpha=0.9)\n",
    "layer2.get_radius = 450\n",
    "layer2.get_line_width = 100\n",
    "layer2.radius_units = \"meters\"\n",
    "layer2.radius_min_pixels = 4\n",
    "\n",
    "#layer3: viirs candidates\n",
    "layer3 = ScatterplotLayer.from_geopandas(v_cands)\n",
    "layer3.get_fill_color = apply_continuous_cmap(normalized_vcands, cmap, alpha=0.9)\n",
    "layer3.get_radius = 200\n",
    "layer3.radius_units = \"meters\"\n",
    "layer3.radius_min_pixels = 2\n",
    "\n",
    "#layer4: viirs known\n",
    "layer4 = ScatterplotLayer.from_geopandas(v_known, stroked=True)\n",
    "layer4.get_fill_color = apply_continuous_cmap(normalized_vknown, cmap, alpha=0.9)\n",
    "layer4.get_radius = 150\n",
    "layer4.get_line_width = 100\n",
    "layer4.radius_units = \"meters\"\n",
    "layer4.radius_min_pixels = 2\n",
    "\n",
    "m = Map([layer1, layer2, layer3, layer4], _height=800)\n",
    "#m.set_view_state(longitude':-60,'latitude':2,'zoom':7)\n",
    "m"
   ]
  },
  {
   "cell_type": "code",
   "execution_count": 25,
   "id": "1346120c-75e1-4419-8bd9-6d0b87e8e8c2",
   "metadata": {
    "tags": []
   },
   "outputs": [
    {
     "data": {
      "image/png": "[encoded data removed]",
      "text/html": [
       "<div style=\"vertical-align: middle;\"><strong>Spectral_r</strong> </div><div class=\"cmap\"><img alt=\"Spectral_r colormap\" title=\"Spectral_r\" style=\"border: 1px solid #555;\" src=\"data:image/png;base64,iVBORw0KGgoAAAANSUhEUgAAAgAAAABACAYAAABsv8+/AAAAGXRFWHRUaXRsZQBTcGVjdHJhbF9yIGNvbG9ybWFwkgoEDgAAAB90RVh0RGVzY3JpcHRpb24AU3BlY3RyYWxfciBjb2xvcm1hcOgixUAAAAAwdEVYdEF1dGhvcgBNYXRwbG90bGliIHYzLjguMywgaHR0cHM6Ly9tYXRwbG90bGliLm9yZ6qeThwAAAAydEVYdFNvZnR3YXJlAE1hdHBsb3RsaWIgdjMuOC4zLCBodHRwczovL21hdHBsb3RsaWIub3JnhDjROwAAAh1JREFUeJzt1kFu2zAQhtGhj9RT9lK9mtVFRQUaibWTFsjif29jaERTtBoU3/jx89dWVTXGVlVV4/Hn8zGqXc/7f58/+j5z/av998+xzz+u2/5t3vfv+7y7/6P9rj4/ftf8fs354vPN++Mfv3+8x28/1/5+Lvfv58f7fXs+n7/6d/jc/HjOi/nHub82vzy3zu9jv6yx9fn5et9uPZ/7zv36Pqv5Nz1v/t5arDs+n9ti/nxz3bz+7PrFc/77udr5Ls+///72bPefq/t1u27r+7d11/vt+3P9Yt3lfPPvZnn/fI4v/77tfL7+emsbt/Otz4/743T+Pr+s3/epy5/NuD9Xe26tzvPinLU6z2I+38P8fwkACCIAACCQAACAQAIAAAIJAAAIJAAAIJAAAIBAAgAAAgkAAAgkAAAgkAAAgEACAAACCQAACCQAACCQAACAQAIAAAIJAAAIJAAAIJAAAIBAAgAAAgkAAAgkAAAgkAAAgEACAAACCQAACCQAACCQAACAQAIAAAIJAAAIJAAAIJAAAIBAAgAAAgkAAAgkAAAgkAAAgEACAAACCQAACCQAACCQAACAQAIAAAIJAAAIJAAAIJAAAIBAAgAAAgkAAAgkAAAgkAAAgEACAAACCQAACCQAACCQAACAQAIAAAIJAAAIJAAAIJAAAIBAAgAAAgkAAAgkAAAgkAAAgEACAAACCQAACCQAACCQAACAQL8Bi9oh8BUIF4UAAAAASUVORK5CYII=\"></div><div style=\"vertical-align: middle; max-width: 514px; display: flex; justify-content: space-between;\"><div style=\"float: left;\"><div title=\"#3288bdff\" style=\"display: inline-block; width: 1em; height: 1em; margin: 0; vertical-align: middle; border: 1px solid #555; background-color: #3288bdff;\"></div> under</div><div style=\"margin: 0 auto; display: inline-block;\">bad <div title=\"#00000000\" style=\"display: inline-block; width: 1em; height: 1em; margin: 0; vertical-align: middle; border: 1px solid #555; background-color: #00000000;\"></div></div><div style=\"float: right;\">over <div title=\"#d53e4fff\" style=\"display: inline-block; width: 1em; height: 1em; margin: 0; vertical-align: middle; border: 1px solid #555; background-color: #d53e4fff;\"></div></div>"
      ],
      "text/plain": [
       "<matplotlib.colors.LinearSegmentedColormap at 0x7f7b8d895670>"
      ]
     },
     "execution_count": 25,
     "metadata": {},
     "output_type": "execute_result"
    }
   ],
   "source": [
    "cmap.mpl_colormap"
   ]
  },
  {
   "cell_type": "code",
   "execution_count": 55,
   "id": "4c5498f6-839a-42af-9dec-f9adbff33441",
   "metadata": {},
   "outputs": [
    {
     "data": {
      "text/plain": [
       "42645"
      ]
     },
     "execution_count": 55,
     "metadata": {},
     "output_type": "execute_result"
    }
   ],
   "source": [
    "len(modis)"
   ]
  },
  {
   "cell_type": "code",
   "execution_count": 56,
   "id": "44b227b4-a1a6-4f56-8c9a-d50bdde16e1e",
   "metadata": {
    "tags": []
   },
   "outputs": [
    {
     "data": {
      "text/plain": [
       "34698"
      ]
     },
     "execution_count": 56,
     "metadata": {},
     "output_type": "execute_result"
    }
   ],
   "source": [
    "len(m_cands)"
   ]
  },
  {
   "cell_type": "code",
   "execution_count": 57,
   "id": "7598f2a1-0e04-45bc-95e0-4032523a2f81",
   "metadata": {
    "tags": []
   },
   "outputs": [
    {
     "data": {
      "text/plain": [
       "1813"
      ]
     },
     "execution_count": 57,
     "metadata": {},
     "output_type": "execute_result"
    }
   ],
   "source": [
    "len(m_cands[m_cands.daynight=='N'])"
   ]
  },
  {
   "cell_type": "code",
   "execution_count": 60,
   "id": "b092bdef-d541-4000-b360-2d26208d4d66",
   "metadata": {
    "tags": []
   },
   "outputs": [
    {
     "data": {
      "text/plain": [
       "0.0522508501930947"
      ]
     },
     "execution_count": 60,
     "metadata": {},
     "output_type": "execute_result"
    }
   ],
   "source": [
    "1813/34698"
   ]
  },
  {
   "cell_type": "code",
   "execution_count": 59,
   "id": "42b45604-3bf5-42cb-bbf4-e8950093f1f6",
   "metadata": {
    "tags": []
   },
   "outputs": [
    {
     "data": {
      "text/plain": [
       "0.8136475553992262"
      ]
     },
     "execution_count": 59,
     "metadata": {},
     "output_type": "execute_result"
    }
   ],
   "source": [
    "len(m_cands) / len(modis)"
   ]
  },
  {
   "cell_type": "code",
   "execution_count": 49,
   "id": "6d3f7911-4a7c-4396-a867-1f739a325ab8",
   "metadata": {},
   "outputs": [
    {
     "data": {
      "text/plain": [
       "[datetime.date(2015, 11, 1),\n",
       " datetime.date(2015, 11, 2),\n",
       " datetime.date(2015, 11, 3),\n",
       " datetime.date(2015, 11, 4),\n",
       " datetime.date(2015, 11, 5),\n",
       " datetime.date(2015, 11, 6),\n",
       " datetime.date(2015, 11, 7),\n",
       " datetime.date(2015, 11, 8),\n",
       " datetime.date(2015, 11, 9),\n",
       " datetime.date(2015, 11, 10),\n",
       " datetime.date(2015, 11, 11),\n",
       " datetime.date(2015, 11, 12),\n",
       " datetime.date(2015, 11, 13),\n",
       " datetime.date(2015, 11, 14),\n",
       " datetime.date(2015, 11, 15),\n",
       " datetime.date(2015, 11, 16),\n",
       " datetime.date(2015, 11, 17),\n",
       " datetime.date(2015, 11, 18),\n",
       " datetime.date(2015, 11, 19),\n",
       " datetime.date(2015, 11, 20),\n",
       " datetime.date(2015, 11, 21),\n",
       " datetime.date(2015, 11, 22),\n",
       " datetime.date(2015, 11, 23),\n",
       " datetime.date(2015, 11, 24),\n",
       " datetime.date(2015, 11, 25),\n",
       " datetime.date(2015, 11, 26),\n",
       " datetime.date(2015, 11, 27),\n",
       " datetime.date(2015, 11, 28),\n",
       " datetime.date(2015, 11, 29),\n",
       " datetime.date(2015, 11, 30)]"
      ]
     },
     "execution_count": 49,
     "metadata": {},
     "output_type": "execute_result"
    }
   ],
   "source": [
    "#timeseries\n",
    "\n",
    "start = dt.date(2015,11,1)\n",
    "\n",
    "days = [start + dt.timedelta(i) for i in range(30)]\n",
    "days"
   ]
  },
  {
   "cell_type": "code",
   "execution_count": 31,
   "id": "1fd2493a-7137-4dd3-8ad6-fcf320a3318c",
   "metadata": {
    "tags": []
   },
   "outputs": [
    {
     "name": "stderr",
     "output_type": "stream",
     "text": [
      "/projects/myenvs/hls/lib/python3.12/site-packages/geopandas/geodataframe.py:206: UserWarning: Pandas doesn't allow columns to be created via a new attribute name - see https://pandas.pydata.org/pandas-docs/stable/indexing.html#attribute-access\n",
      "  super().__setattr__(attr, val)\n"
     ]
    }
   ],
   "source": [
    "modis.day = modis.acq_datetime.dt.date"
   ]
  },
  {
   "cell_type": "code",
   "execution_count": 38,
   "id": "895ddf50-d980-4718-81d2-e678dcc829dc",
   "metadata": {},
   "outputs": [
    {
     "data": {
      "text/plain": [
       "(array([16740., 16744., 16748., 16752., 16756., 16760., 16764., 16768.,\n",
       "        16770.]),\n",
       " [Text(16740.0, 0, '2015-11-01'),\n",
       "  Text(16744.0, 0, '2015-11-05'),\n",
       "  Text(16748.0, 0, '2015-11-09'),\n",
       "  Text(16752.0, 0, '2015-11-13'),\n",
       "  Text(16756.0, 0, '2015-11-17'),\n",
       "  Text(16760.0, 0, '2015-11-21'),\n",
       "  Text(16764.0, 0, '2015-11-25'),\n",
       "  Text(16768.0, 0, '2015-11-29'),\n",
       "  Text(16770.0, 0, '2015-12-01')])"
      ]
     },
     "execution_count": 38,
     "metadata": {},
     "output_type": "execute_result"
    },
    {
     "data": {
      "image/png": "[encoded data removed]",
      "text/plain": [
       "<Figure size 640x480 with 1 Axes>"
      ]
     },
     "metadata": {},
     "output_type": "display_data"
    }
   ],
   "source": [
    "total = []\n",
    "knowns = []\n",
    "cands = []\n",
    "\n",
    "for d in days:\n",
    "    total.append(len(modis[modis.day==d]))\n",
    "    knowns.append(len(modis[(modis.day==d) & (modis.fire_mask>6)]))\n",
    "    cands.append(len(modis[(modis.day==d) & (modis.fire_mask<7)]))\n",
    "plt.plot(days, total, c='gray')\n",
    "plt.plot(days, knowns, c='red')\n",
    "plt.plot(days, cands, c='deepskyblue')\n",
    "plt.xticks(rotation=30)"
   ]
  },
  {
   "cell_type": "code",
   "execution_count": 50,
   "id": "ceece6e2-e9e7-43ea-819e-8f05f5e9c62d",
   "metadata": {
    "tags": []
   },
   "outputs": [
    {
     "name": "stderr",
     "output_type": "stream",
     "text": [
      "/projects/myenvs/hls/lib/python3.12/site-packages/geopandas/geodataframe.py:206: UserWarning: Pandas doesn't allow columns to be created via a new attribute name - see https://pandas.pydata.org/pandas-docs/stable/indexing.html#attribute-access\n",
      "  super().__setattr__(attr, val)\n"
     ]
    }
   ],
   "source": [
    "viirs.day = viirs.acq_datetime.dt.date"
   ]
  },
  {
   "cell_type": "code",
   "execution_count": 56,
   "id": "99088df0-9b2f-40f6-8312-0952f65a8743",
   "metadata": {
    "tags": []
   },
   "outputs": [
    {
     "data": {
      "text/plain": [
       "<matplotlib.legend.Legend at 0x7fad3dcc51f0>"
      ]
     },
     "execution_count": 56,
     "metadata": {},
     "output_type": "execute_result"
    },
    {
     "data": {
      "image/png": "[encoded data removed]",
      "text/plain": [
       "<Figure size 640x480 with 1 Axes>"
      ]
     },
     "metadata": {},
     "output_type": "display_data"
    }
   ],
   "source": [
    "total = []\n",
    "knowns = []\n",
    "cands = []\n",
    "vza = []\n",
    "\n",
    "for d in days:\n",
    "    subset = viirs[viirs.day==d]\n",
    "    total.append(len(subset))\n",
    "    knowns.append(len(subset[subset.fire_mask>6]))\n",
    "    cands.append(len(subset[subset.fire_mask<7]))\n",
    "    vza.append(subset.vza.mean())\n",
    "plt.plot(days, total, c='gray', label='Total')\n",
    "plt.plot(days, knowns, c='red', label='VIIRS active fires')\n",
    "plt.plot(days, cands, c='deepskyblue', label='VIIRS candidate fires')\n",
    "plt.plot(days, [v*100 for v in vza], c='gold', linestyle='--', label='mean VZA x100')\n",
    "plt.xticks(rotation=30)\n",
    "plt.ylabel('Number of detections')\n",
    "plt.legend()"
   ]
  },
  {
   "cell_type": "code",
   "execution_count": 21,
   "id": "52f3e9bd-fd11-483c-8b07-b424340f848d",
   "metadata": {
    "tags": []
   },
   "outputs": [
    {
     "data": {
      "text/plain": [
       "0.2707568971267928"
      ]
     },
     "execution_count": 21,
     "metadata": {},
     "output_type": "execute_result"
    }
   ],
   "source": [
    "len(v_cands) / len(v_known)"
   ]
  }
 ],
 "metadata": {
  "kernelspec": {
   "display_name": "Python [conda env:pangeo] *",
   "language": "python",
   "name": "conda-env-pangeo-py"
  },
  "language_info": {
   "codemirror_mode": {
    "name": "ipython",
    "version": 3
   },
   "file_extension": ".py",
   "mimetype": "text/x-python",
   "name": "python",
   "nbconvert_exporter": "python",
   "pygments_lexer": "ipython3",
   "version": "3.10.13"
  }
 },
 "nbformat": 4,
 "nbformat_minor": 5
}
